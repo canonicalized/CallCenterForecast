{
 "cells": [
  {
   "cell_type": "code",
   "execution_count": 6,
   "metadata": {
    "collapsed": true
   },
   "outputs": [
    {
     "ename": "AttributeError",
     "evalue": "module 'matplotlib' has no attribute 'get_data_path'",
     "output_type": "error",
     "traceback": [
      "\u001B[0;31m---------------------------------------------------------------------------\u001B[0m",
      "\u001B[0;31mAttributeError\u001B[0m                            Traceback (most recent call last)",
      "Input \u001B[0;32mIn [6]\u001B[0m, in \u001B[0;36m<cell line: 19>\u001B[0;34m()\u001B[0m\n\u001B[1;32m     16\u001B[0m \u001B[38;5;28;01mfrom\u001B[39;00m \u001B[38;5;21;01msklearn\u001B[39;00m\u001B[38;5;21;01m.\u001B[39;00m\u001B[38;5;21;01mmodel_selection\u001B[39;00m \u001B[38;5;28;01mimport\u001B[39;00m GridSearchCV, RandomizedSearchCV, cross_val_score\n\u001B[1;32m     17\u001B[0m \u001B[38;5;28;01mfrom\u001B[39;00m \u001B[38;5;21;01msklearn\u001B[39;00m \u001B[38;5;28;01mimport\u001B[39;00m svm\n\u001B[0;32m---> 19\u001B[0m \u001B[38;5;28;01mimport\u001B[39;00m \u001B[38;5;21;01mlightgbm\u001B[39;00m \u001B[38;5;28;01mas\u001B[39;00m \u001B[38;5;21;01mlgb\u001B[39;00m\n\u001B[1;32m     20\u001B[0m \u001B[38;5;28;01mimport\u001B[39;00m \u001B[38;5;21;01mxgboost\u001B[39;00m \u001B[38;5;28;01mas\u001B[39;00m \u001B[38;5;21;01mxgb\u001B[39;00m\n\u001B[1;32m     22\u001B[0m \u001B[38;5;28;01mimport\u001B[39;00m \u001B[38;5;21;01mwarnings\u001B[39;00m\n",
      "File \u001B[0;32m/opt/homebrew/Caskroom/miniforge/base/envs/python38/lib/python3.8/site-packages/lightgbm/__init__.py:8\u001B[0m, in \u001B[0;36m<module>\u001B[0;34m\u001B[0m\n\u001B[1;32m      2\u001B[0m \u001B[38;5;124;03m\"\"\"LightGBM, Light Gradient Boosting Machine.\u001B[39;00m\n\u001B[1;32m      3\u001B[0m \n\u001B[1;32m      4\u001B[0m \u001B[38;5;124;03mContributors: https://github.com/microsoft/LightGBM/graphs/contributors.\u001B[39;00m\n\u001B[1;32m      5\u001B[0m \u001B[38;5;124;03m\"\"\"\u001B[39;00m\n\u001B[1;32m      6\u001B[0m \u001B[38;5;28;01mfrom\u001B[39;00m \u001B[38;5;21;01mpathlib\u001B[39;00m \u001B[38;5;28;01mimport\u001B[39;00m Path\n\u001B[0;32m----> 8\u001B[0m \u001B[38;5;28;01mfrom\u001B[39;00m \u001B[38;5;21;01m.\u001B[39;00m\u001B[38;5;21;01mbasic\u001B[39;00m \u001B[38;5;28;01mimport\u001B[39;00m Booster, Dataset, Sequence, register_logger\n\u001B[1;32m      9\u001B[0m \u001B[38;5;28;01mfrom\u001B[39;00m \u001B[38;5;21;01m.\u001B[39;00m\u001B[38;5;21;01mcallback\u001B[39;00m \u001B[38;5;28;01mimport\u001B[39;00m early_stopping, log_evaluation, print_evaluation, record_evaluation, reset_parameter\n\u001B[1;32m     10\u001B[0m \u001B[38;5;28;01mfrom\u001B[39;00m \u001B[38;5;21;01m.\u001B[39;00m\u001B[38;5;21;01mengine\u001B[39;00m \u001B[38;5;28;01mimport\u001B[39;00m CVBooster, cv, train\n",
      "File \u001B[0;32m/opt/homebrew/Caskroom/miniforge/base/envs/python38/lib/python3.8/site-packages/lightgbm/basic.py:20\u001B[0m, in \u001B[0;36m<module>\u001B[0;34m\u001B[0m\n\u001B[1;32m     17\u001B[0m \u001B[38;5;28;01mimport\u001B[39;00m \u001B[38;5;21;01mnumpy\u001B[39;00m \u001B[38;5;28;01mas\u001B[39;00m \u001B[38;5;21;01mnp\u001B[39;00m\n\u001B[1;32m     18\u001B[0m \u001B[38;5;28;01mimport\u001B[39;00m \u001B[38;5;21;01mscipy\u001B[39;00m\u001B[38;5;21;01m.\u001B[39;00m\u001B[38;5;21;01msparse\u001B[39;00m\n\u001B[0;32m---> 20\u001B[0m \u001B[38;5;28;01mfrom\u001B[39;00m \u001B[38;5;21;01m.\u001B[39;00m\u001B[38;5;21;01mcompat\u001B[39;00m \u001B[38;5;28;01mimport\u001B[39;00m PANDAS_INSTALLED, concat, dt_DataTable, is_dtype_sparse, pd_DataFrame, pd_Series\n\u001B[1;32m     21\u001B[0m \u001B[38;5;28;01mfrom\u001B[39;00m \u001B[38;5;21;01m.\u001B[39;00m\u001B[38;5;21;01mlibpath\u001B[39;00m \u001B[38;5;28;01mimport\u001B[39;00m find_lib_path\n\u001B[1;32m     23\u001B[0m ZERO_THRESHOLD \u001B[38;5;241m=\u001B[39m \u001B[38;5;241m1e-35\u001B[39m\n",
      "File \u001B[0;32m/opt/homebrew/Caskroom/miniforge/base/envs/python38/lib/python3.8/site-packages/lightgbm/compat.py:29\u001B[0m, in \u001B[0;36m<module>\u001B[0;34m\u001B[0m\n\u001B[1;32m     27\u001B[0m \u001B[38;5;124;03m\"\"\"matplotlib\"\"\"\u001B[39;00m\n\u001B[1;32m     28\u001B[0m \u001B[38;5;28;01mtry\u001B[39;00m:\n\u001B[0;32m---> 29\u001B[0m     \u001B[38;5;28;01mimport\u001B[39;00m \u001B[38;5;21;01mmatplotlib\u001B[39;00m\n\u001B[1;32m     30\u001B[0m     MATPLOTLIB_INSTALLED \u001B[38;5;241m=\u001B[39m \u001B[38;5;28;01mTrue\u001B[39;00m\n\u001B[1;32m     31\u001B[0m \u001B[38;5;28;01mexcept\u001B[39;00m \u001B[38;5;167;01mImportError\u001B[39;00m:\n",
      "File \u001B[0;32m/opt/homebrew/Caskroom/miniforge/base/envs/python38/lib/python3.8/site-packages/matplotlib/__init__.py:877\u001B[0m, in \u001B[0;36m<module>\u001B[0;34m\u001B[0m\n\u001B[1;32m    870\u001B[0m     \u001B[38;5;28;01mreturn\u001B[39;00m config\n\u001B[1;32m    873\u001B[0m \u001B[38;5;66;03m# When constructing the global instances, we need to perform certain updates\u001B[39;00m\n\u001B[1;32m    874\u001B[0m \u001B[38;5;66;03m# by explicitly calling the superclass (dict.update, dict.items) to avoid\u001B[39;00m\n\u001B[1;32m    875\u001B[0m \u001B[38;5;66;03m# triggering resolution of _auto_backend_sentinel.\u001B[39;00m\n\u001B[1;32m    876\u001B[0m rcParamsDefault \u001B[38;5;241m=\u001B[39m _rc_params_in_file(\n\u001B[0;32m--> 877\u001B[0m     \u001B[43mcbook\u001B[49m\u001B[38;5;241;43m.\u001B[39;49m\u001B[43m_get_data_path\u001B[49m\u001B[43m(\u001B[49m\u001B[38;5;124;43m\"\u001B[39;49m\u001B[38;5;124;43mmatplotlibrc\u001B[39;49m\u001B[38;5;124;43m\"\u001B[39;49m\u001B[43m)\u001B[49m,\n\u001B[1;32m    878\u001B[0m     \u001B[38;5;66;03m# Strip leading comment.\u001B[39;00m\n\u001B[1;32m    879\u001B[0m     transform\u001B[38;5;241m=\u001B[39m\u001B[38;5;28;01mlambda\u001B[39;00m line: line[\u001B[38;5;241m1\u001B[39m:] \u001B[38;5;28;01mif\u001B[39;00m line\u001B[38;5;241m.\u001B[39mstartswith(\u001B[38;5;124m\"\u001B[39m\u001B[38;5;124m#\u001B[39m\u001B[38;5;124m\"\u001B[39m) \u001B[38;5;28;01melse\u001B[39;00m line,\n\u001B[1;32m    880\u001B[0m     fail_on_error\u001B[38;5;241m=\u001B[39m\u001B[38;5;28;01mTrue\u001B[39;00m)\n\u001B[1;32m    881\u001B[0m \u001B[38;5;28mdict\u001B[39m\u001B[38;5;241m.\u001B[39mupdate(rcParamsDefault, rcsetup\u001B[38;5;241m.\u001B[39m_hardcoded_defaults)\n\u001B[1;32m    882\u001B[0m \u001B[38;5;66;03m# Normally, the default matplotlibrc file contains *no* entry for backend (the\u001B[39;00m\n\u001B[1;32m    883\u001B[0m \u001B[38;5;66;03m# corresponding line starts with ##, not #; we fill on _auto_backend_sentinel\u001B[39;00m\n\u001B[1;32m    884\u001B[0m \u001B[38;5;66;03m# in that case.  However, packagers can set a different default backend\u001B[39;00m\n\u001B[1;32m    885\u001B[0m \u001B[38;5;66;03m# (resulting in a normal `#backend: foo` line) in which case we should *not*\u001B[39;00m\n\u001B[1;32m    886\u001B[0m \u001B[38;5;66;03m# fill in _auto_backend_sentinel.\u001B[39;00m\n",
      "File \u001B[0;32m/opt/homebrew/Caskroom/miniforge/base/envs/python38/lib/python3.8/site-packages/matplotlib/cbook/__init__.py:518\u001B[0m, in \u001B[0;36m_get_data_path\u001B[0;34m(*args)\u001B[0m\n\u001B[1;32m    512\u001B[0m \u001B[38;5;28;01mdef\u001B[39;00m \u001B[38;5;21m_get_data_path\u001B[39m(\u001B[38;5;241m*\u001B[39margs):\n\u001B[1;32m    513\u001B[0m     \u001B[38;5;124;03m\"\"\"\u001B[39;00m\n\u001B[1;32m    514\u001B[0m \u001B[38;5;124;03m    Return the `pathlib.Path` to a resource file provided by Matplotlib.\u001B[39;00m\n\u001B[1;32m    515\u001B[0m \n\u001B[1;32m    516\u001B[0m \u001B[38;5;124;03m    ``*args`` specify a path relative to the base data path.\u001B[39;00m\n\u001B[1;32m    517\u001B[0m \u001B[38;5;124;03m    \"\"\"\u001B[39;00m\n\u001B[0;32m--> 518\u001B[0m     \u001B[38;5;28;01mreturn\u001B[39;00m Path(\u001B[43mmatplotlib\u001B[49m\u001B[38;5;241;43m.\u001B[39;49m\u001B[43mget_data_path\u001B[49m(), \u001B[38;5;241m*\u001B[39margs)\n",
      "\u001B[0;31mAttributeError\u001B[0m: module 'matplotlib' has no attribute 'get_data_path'"
     ]
    }
   ],
   "source": [
    "import pandas as pd\n",
    "import numpy as np\n",
    "\n",
    "from sklearn.linear_model import LinearRegression\n",
    "from sklearn.ensemble import RandomForestRegressor\n",
    "from sklearn.linear_model import Lasso\n",
    "from sklearn.linear_model import ElasticNet\n",
    "from sklearn.tree import DecisionTreeRegressor\n",
    "from sklearn.neighbors import KNeighborsRegressor\n",
    "from sklearn.ensemble import GradientBoostingRegressor\n",
    "from sklearn.metrics import r2_score\n",
    "\n",
    "#tuning\n",
    "from sklearn.metrics import make_scorer, mean_squared_error\n",
    "from bayes_opt import BayesianOptimization\n",
    "from sklearn.model_selection import GridSearchCV, RandomizedSearchCV, cross_val_score\n",
    "from sklearn import svm\n",
    "\n",
    "import lightgbm as lgb\n",
    "import xgboost as xgb\n",
    "\n",
    "import warnings\n",
    "warnings.filterwarnings(\"ignore\")\n",
    "\n",
    "from matplotlib import pyplot as plt"
   ]
  },
  {
   "cell_type": "code",
   "execution_count": 2,
   "outputs": [
    {
     "data": {
      "text/plain": "     Call Date  Month  Year of Call Date  Week of Call Date  Day of Call Date  \\\n0   2020-01-17      1               2020                  3                17   \n1   2020-01-20      1               2020                  4                20   \n2   2020-01-21      1               2020                  4                21   \n3   2020-01-22      1               2020                  4                22   \n4   2020-01-23      1               2020                  4                23   \n..         ...    ...                ...                ...               ...   \n482 2021-12-09     12               2021                 50                 9   \n483 2021-12-10     12               2021                 50                10   \n484 2021-12-13     12               2021                 51                13   \n485 2021-12-14     12               2021                 51                14   \n486 2021-12-15     12               2021                 51                15   \n\n     Weekday of Call Date  Total Incoming Calls  \n0                       6                   296  \n1                       2                   381  \n2                       3                   363  \n3                       4                   305  \n4                       5                   304  \n..                    ...                   ...  \n482                     5                   882  \n483                     6                   792  \n484                     2                   941  \n485                     3                   948  \n486                     4                   985  \n\n[487 rows x 7 columns]",
      "text/html": "<div>\n<style scoped>\n    .dataframe tbody tr th:only-of-type {\n        vertical-align: middle;\n    }\n\n    .dataframe tbody tr th {\n        vertical-align: top;\n    }\n\n    .dataframe thead th {\n        text-align: right;\n    }\n</style>\n<table border=\"1\" class=\"dataframe\">\n  <thead>\n    <tr style=\"text-align: right;\">\n      <th></th>\n      <th>Call Date</th>\n      <th>Month</th>\n      <th>Year of Call Date</th>\n      <th>Week of Call Date</th>\n      <th>Day of Call Date</th>\n      <th>Weekday of Call Date</th>\n      <th>Total Incoming Calls</th>\n    </tr>\n  </thead>\n  <tbody>\n    <tr>\n      <th>0</th>\n      <td>2020-01-17</td>\n      <td>1</td>\n      <td>2020</td>\n      <td>3</td>\n      <td>17</td>\n      <td>6</td>\n      <td>296</td>\n    </tr>\n    <tr>\n      <th>1</th>\n      <td>2020-01-20</td>\n      <td>1</td>\n      <td>2020</td>\n      <td>4</td>\n      <td>20</td>\n      <td>2</td>\n      <td>381</td>\n    </tr>\n    <tr>\n      <th>2</th>\n      <td>2020-01-21</td>\n      <td>1</td>\n      <td>2020</td>\n      <td>4</td>\n      <td>21</td>\n      <td>3</td>\n      <td>363</td>\n    </tr>\n    <tr>\n      <th>3</th>\n      <td>2020-01-22</td>\n      <td>1</td>\n      <td>2020</td>\n      <td>4</td>\n      <td>22</td>\n      <td>4</td>\n      <td>305</td>\n    </tr>\n    <tr>\n      <th>4</th>\n      <td>2020-01-23</td>\n      <td>1</td>\n      <td>2020</td>\n      <td>4</td>\n      <td>23</td>\n      <td>5</td>\n      <td>304</td>\n    </tr>\n    <tr>\n      <th>...</th>\n      <td>...</td>\n      <td>...</td>\n      <td>...</td>\n      <td>...</td>\n      <td>...</td>\n      <td>...</td>\n      <td>...</td>\n    </tr>\n    <tr>\n      <th>482</th>\n      <td>2021-12-09</td>\n      <td>12</td>\n      <td>2021</td>\n      <td>50</td>\n      <td>9</td>\n      <td>5</td>\n      <td>882</td>\n    </tr>\n    <tr>\n      <th>483</th>\n      <td>2021-12-10</td>\n      <td>12</td>\n      <td>2021</td>\n      <td>50</td>\n      <td>10</td>\n      <td>6</td>\n      <td>792</td>\n    </tr>\n    <tr>\n      <th>484</th>\n      <td>2021-12-13</td>\n      <td>12</td>\n      <td>2021</td>\n      <td>51</td>\n      <td>13</td>\n      <td>2</td>\n      <td>941</td>\n    </tr>\n    <tr>\n      <th>485</th>\n      <td>2021-12-14</td>\n      <td>12</td>\n      <td>2021</td>\n      <td>51</td>\n      <td>14</td>\n      <td>3</td>\n      <td>948</td>\n    </tr>\n    <tr>\n      <th>486</th>\n      <td>2021-12-15</td>\n      <td>12</td>\n      <td>2021</td>\n      <td>51</td>\n      <td>15</td>\n      <td>4</td>\n      <td>985</td>\n    </tr>\n  </tbody>\n</table>\n<p>487 rows × 7 columns</p>\n</div>"
     },
     "execution_count": 2,
     "metadata": {},
     "output_type": "execute_result"
    }
   ],
   "source": [
    "df = pd.read_excel(\"./calls.xlsx\")\n",
    "df.drop(['INDEX()'],axis=1,inplace=True)\n",
    "df['Call Date'] = pd.to_datetime(df['Call Date'], format=\"%d.%m.%Y\")\n",
    "df['Week of Call Date'] = df['Week of Call Date'].str.replace('Week ','').astype(int)\n",
    "#df = pd.get_dummies(df, columns=['Call Reason','Customer'])\n",
    "\n",
    "df = df[['Call Date','Month','Year of Call Date','Week of Call Date','Day of Call Date','Weekday of Call Date','Total Incoming Calls']]\n",
    "#df = df.groupby(['Call Date','Year of Call Date','Month','Week of Call Date','Day of Call Date','Weekday of Call Date']).sum('Total Incoming Calls')\n",
    "#df.reset_index(inplace=True)\n",
    "#df['Day'] = pd.to_datetime(df['Call Date']).dt.day\n",
    "#df['WeekDay'] = pd.to_datetime(df['Call Date']).dt.dayofweek\n",
    "df"
   ],
   "metadata": {
    "collapsed": false,
    "pycharm": {
     "name": "#%%\n"
    }
   }
  },
  {
   "cell_type": "code",
   "execution_count": 3,
   "outputs": [
    {
     "data": {
      "text/plain": "Call Date               datetime64[ns]\nMonth                            int64\nYear of Call Date                int64\nWeek of Call Date                int64\nDay of Call Date                 int64\nWeekday of Call Date             int64\nTotal Incoming Calls             int64\ndtype: object"
     },
     "execution_count": 3,
     "metadata": {},
     "output_type": "execute_result"
    }
   ],
   "source": [
    "df.dtypes"
   ],
   "metadata": {
    "collapsed": false,
    "pycharm": {
     "name": "#%%\n"
    }
   }
  },
  {
   "cell_type": "code",
   "execution_count": 4,
   "outputs": [
    {
     "data": {
      "text/plain": "                  Method     Score\n2  RandomForestRegressor  0.820205\n1    KNeighborsRegressor  0.728191\n0       LinearRegression  0.540051\n3                  Lasso  0.453211\n4  DecisionTreeRegressor  0.435330",
      "text/html": "<div>\n<style scoped>\n    .dataframe tbody tr th:only-of-type {\n        vertical-align: middle;\n    }\n\n    .dataframe tbody tr th {\n        vertical-align: top;\n    }\n\n    .dataframe thead th {\n        text-align: right;\n    }\n</style>\n<table border=\"1\" class=\"dataframe\">\n  <thead>\n    <tr style=\"text-align: right;\">\n      <th></th>\n      <th>Method</th>\n      <th>Score</th>\n    </tr>\n  </thead>\n  <tbody>\n    <tr>\n      <th>2</th>\n      <td>RandomForestRegressor</td>\n      <td>0.820205</td>\n    </tr>\n    <tr>\n      <th>1</th>\n      <td>KNeighborsRegressor</td>\n      <td>0.728191</td>\n    </tr>\n    <tr>\n      <th>0</th>\n      <td>LinearRegression</td>\n      <td>0.540051</td>\n    </tr>\n    <tr>\n      <th>3</th>\n      <td>Lasso</td>\n      <td>0.453211</td>\n    </tr>\n    <tr>\n      <th>4</th>\n      <td>DecisionTreeRegressor</td>\n      <td>0.435330</td>\n    </tr>\n  </tbody>\n</table>\n</div>"
     },
     "execution_count": 4,
     "metadata": {},
     "output_type": "execute_result"
    }
   ],
   "source": [
    "#Breaking the data and selecting features , predictors\n",
    "from sklearn.model_selection import train_test_split\n",
    "predictors=df.drop(['Total Incoming Calls','Call Date'],axis=1)\n",
    "target=df['Total Incoming Calls']\n",
    "x_train,x_cv,y_train,y_cv=train_test_split(predictors,target,test_size=0.2,random_state=42)\n",
    "\n",
    "#Comparing Algorithms\n",
    "def scores(i):\n",
    "    lin = i()\n",
    "    lin.fit(x_train, y_train)\n",
    "    y_pred=lin.predict(x_cv)\n",
    "    lin_r= r2_score(y_cv, y_pred)\n",
    "    s.append(lin_r)\n",
    "#Checking the scores by using our function\n",
    "algos=[LinearRegression,KNeighborsRegressor,\n",
    "       RandomForestRegressor,Lasso,ElasticNet,DecisionTreeRegressor]\n",
    "s=[]\n",
    "for i in algos:\n",
    "    scores(i)\n",
    "\n",
    "models = pd.DataFrame({\n",
    "    'Method': ['LinearRegression', 'KNeighborsRegressor',\n",
    "               'RandomForestRegressor', 'Lasso','DecisionTreeRegressor'],\n",
    "    'Score': [s[0],s[1],s[2],s[3],s[4]]})\n",
    "models.sort_values(by='Score', ascending=False)"
   ],
   "metadata": {
    "collapsed": false,
    "pycharm": {
     "name": "#%%\n"
    }
   }
  },
  {
   "cell_type": "markdown",
   "source": [
    "### Tune Random forest"
   ],
   "metadata": {
    "collapsed": false
   }
  },
  {
   "cell_type": "code",
   "execution_count": 20,
   "outputs": [],
   "source": [
    "def rms(y_actual, y_predicted):\n",
    "    return sqrt(mean_squared_error(y_actual, y_predicted))\n",
    "\n",
    "\n",
    "my_scorer = make_scorer(rms, greater_is_better=False)\n",
    "pbounds = {\n",
    "    'n_estimators': (100, 10000),\n",
    "    'max_depth': (3, 15),\n",
    "    'min_samples_leaf': (1, 4),\n",
    "    'min_samples_split': (2, 10),\n",
    "}\n",
    "\n",
    "\n",
    "def rf_hyper_param(n_estimators,\n",
    "                   max_depth,\n",
    "                   min_samples_leaf,\n",
    "                   min_samples_split):\n",
    "\n",
    "    max_depth = int(max_depth)\n",
    "    n_estimators = int(n_estimators)\n",
    "\n",
    "    clf = RandomForestRegressor(n_estimators=n_estimators,\n",
    "                                max_depth=int(max_depth),\n",
    "                                min_samples_leaf=int(min_samples_leaf),\n",
    "                                min_samples_split=int(min_samples_split),\n",
    "                                n_jobs=1)\n",
    "\n",
    "    return -np.mean(cross_val_score(clf, x_train, y_train, cv=3))\n",
    "\n",
    "\n",
    "optimizer = BayesianOptimization(\n",
    "    f=rf_hyper_param,\n",
    "    pbounds=pbounds,\n",
    "    random_state=1,\n",
    ")"
   ],
   "metadata": {
    "collapsed": false,
    "pycharm": {
     "name": "#%%\n"
    }
   }
  },
  {
   "cell_type": "code",
   "execution_count": 21,
   "outputs": [
    {
     "name": "stdout",
     "output_type": "stream",
     "text": [
      "|   iter    |  target   | max_depth | min_sa... | min_sa... | n_esti... |\n",
      "-------------------------------------------------------------------------\n",
      "| \u001B[0m 1       \u001B[0m | \u001B[0m-0.7744  \u001B[0m | \u001B[0m 8.004   \u001B[0m | \u001B[0m 3.161   \u001B[0m | \u001B[0m 2.001   \u001B[0m | \u001B[0m 3.093e+0\u001B[0m |\n",
      "| \u001B[95m 2       \u001B[0m | \u001B[95m-0.7408  \u001B[0m | \u001B[95m 4.761   \u001B[0m | \u001B[95m 1.277   \u001B[0m | \u001B[95m 3.49    \u001B[0m | \u001B[95m 3.521e+0\u001B[0m |\n",
      "| \u001B[0m 3       \u001B[0m | \u001B[0m-0.773   \u001B[0m | \u001B[0m 7.761   \u001B[0m | \u001B[0m 2.616   \u001B[0m | \u001B[0m 5.354   \u001B[0m | \u001B[0m 6.884e+0\u001B[0m |\n"
     ]
    },
    {
     "ename": "TypeError",
     "evalue": "'float' object is not subscriptable",
     "output_type": "error",
     "traceback": [
      "\u001B[0;31m---------------------------------------------------------------------------\u001B[0m",
      "\u001B[0;31mStopIteration\u001B[0m                             Traceback (most recent call last)",
      "File \u001B[0;32m/opt/homebrew/Caskroom/miniforge/base/envs/python38/lib/python3.8/site-packages/bayes_opt/bayesian_optimization.py:169\u001B[0m, in \u001B[0;36mBayesianOptimization.maximize\u001B[0;34m(self, init_points, n_iter, acq, kappa, xi, **gp_params)\u001B[0m\n\u001B[1;32m    168\u001B[0m \u001B[38;5;28;01mtry\u001B[39;00m:\n\u001B[0;32m--> 169\u001B[0m     x_probe \u001B[38;5;241m=\u001B[39m \u001B[38;5;28;43mnext\u001B[39;49m\u001B[43m(\u001B[49m\u001B[38;5;28;43mself\u001B[39;49m\u001B[38;5;241;43m.\u001B[39;49m\u001B[43m_queue\u001B[49m\u001B[43m)\u001B[49m\n\u001B[1;32m    170\u001B[0m \u001B[38;5;28;01mexcept\u001B[39;00m \u001B[38;5;167;01mStopIteration\u001B[39;00m:\n",
      "File \u001B[0;32m/opt/homebrew/Caskroom/miniforge/base/envs/python38/lib/python3.8/site-packages/bayes_opt/bayesian_optimization.py:26\u001B[0m, in \u001B[0;36mQueue.__next__\u001B[0;34m(self)\u001B[0m\n\u001B[1;32m     25\u001B[0m \u001B[38;5;28;01mif\u001B[39;00m \u001B[38;5;28mself\u001B[39m\u001B[38;5;241m.\u001B[39mempty:\n\u001B[0;32m---> 26\u001B[0m     \u001B[38;5;28;01mraise\u001B[39;00m \u001B[38;5;167;01mStopIteration\u001B[39;00m(\u001B[38;5;124m\"\u001B[39m\u001B[38;5;124mQueue is empty, no more objects to retrieve.\u001B[39m\u001B[38;5;124m\"\u001B[39m)\n\u001B[1;32m     27\u001B[0m obj \u001B[38;5;241m=\u001B[39m \u001B[38;5;28mself\u001B[39m\u001B[38;5;241m.\u001B[39m_queue[\u001B[38;5;241m0\u001B[39m]\n",
      "\u001B[0;31mStopIteration\u001B[0m: Queue is empty, no more objects to retrieve.",
      "\nDuring handling of the above exception, another exception occurred:\n",
      "\u001B[0;31mTypeError\u001B[0m                                 Traceback (most recent call last)",
      "Input \u001B[0;32mIn [21]\u001B[0m, in \u001B[0;36m<cell line: 1>\u001B[0;34m()\u001B[0m\n\u001B[0;32m----> 1\u001B[0m \u001B[43moptimizer\u001B[49m\u001B[38;5;241;43m.\u001B[39;49m\u001B[43mmaximize\u001B[49m\u001B[43m(\u001B[49m\n\u001B[1;32m      2\u001B[0m \u001B[43m    \u001B[49m\u001B[43minit_points\u001B[49m\u001B[38;5;241;43m=\u001B[39;49m\u001B[38;5;241;43m3\u001B[39;49m\u001B[43m,\u001B[49m\n\u001B[1;32m      3\u001B[0m \u001B[43m    \u001B[49m\u001B[43mn_iter\u001B[49m\u001B[38;5;241;43m=\u001B[39;49m\u001B[38;5;241;43m20\u001B[39;49m\u001B[43m,\u001B[49m\n\u001B[1;32m      4\u001B[0m \u001B[43m    \u001B[49m\u001B[43macq\u001B[49m\u001B[38;5;241;43m=\u001B[39;49m\u001B[38;5;124;43m'\u001B[39;49m\u001B[38;5;124;43mei\u001B[39;49m\u001B[38;5;124;43m'\u001B[39;49m\n\u001B[1;32m      5\u001B[0m \u001B[43m)\u001B[49m\n",
      "File \u001B[0;32m/opt/homebrew/Caskroom/miniforge/base/envs/python38/lib/python3.8/site-packages/bayes_opt/bayesian_optimization.py:171\u001B[0m, in \u001B[0;36mBayesianOptimization.maximize\u001B[0;34m(self, init_points, n_iter, acq, kappa, xi, **gp_params)\u001B[0m\n\u001B[1;32m    169\u001B[0m     x_probe \u001B[38;5;241m=\u001B[39m \u001B[38;5;28mnext\u001B[39m(\u001B[38;5;28mself\u001B[39m\u001B[38;5;241m.\u001B[39m_queue)\n\u001B[1;32m    170\u001B[0m \u001B[38;5;28;01mexcept\u001B[39;00m \u001B[38;5;167;01mStopIteration\u001B[39;00m:\n\u001B[0;32m--> 171\u001B[0m     x_probe \u001B[38;5;241m=\u001B[39m \u001B[38;5;28;43mself\u001B[39;49m\u001B[38;5;241;43m.\u001B[39;49m\u001B[43msuggest\u001B[49m\u001B[43m(\u001B[49m\u001B[43mutil\u001B[49m\u001B[43m)\u001B[49m\n\u001B[1;32m    172\u001B[0m     iteration \u001B[38;5;241m+\u001B[39m\u001B[38;5;241m=\u001B[39m \u001B[38;5;241m1\u001B[39m\n\u001B[1;32m    174\u001B[0m \u001B[38;5;28mself\u001B[39m\u001B[38;5;241m.\u001B[39mprobe(x_probe, lazy\u001B[38;5;241m=\u001B[39m\u001B[38;5;28;01mFalse\u001B[39;00m)\n",
      "File \u001B[0;32m/opt/homebrew/Caskroom/miniforge/base/envs/python38/lib/python3.8/site-packages/bayes_opt/bayesian_optimization.py:127\u001B[0m, in \u001B[0;36mBayesianOptimization.suggest\u001B[0;34m(self, utility_function)\u001B[0m\n\u001B[1;32m    124\u001B[0m     \u001B[38;5;28mself\u001B[39m\u001B[38;5;241m.\u001B[39m_gp\u001B[38;5;241m.\u001B[39mfit(\u001B[38;5;28mself\u001B[39m\u001B[38;5;241m.\u001B[39m_space\u001B[38;5;241m.\u001B[39mparams, \u001B[38;5;28mself\u001B[39m\u001B[38;5;241m.\u001B[39m_space\u001B[38;5;241m.\u001B[39mtarget)\n\u001B[1;32m    126\u001B[0m \u001B[38;5;66;03m# Finding argmax of the acquisition function.\u001B[39;00m\n\u001B[0;32m--> 127\u001B[0m suggestion \u001B[38;5;241m=\u001B[39m \u001B[43macq_max\u001B[49m\u001B[43m(\u001B[49m\n\u001B[1;32m    128\u001B[0m \u001B[43m    \u001B[49m\u001B[43mac\u001B[49m\u001B[38;5;241;43m=\u001B[39;49m\u001B[43mutility_function\u001B[49m\u001B[38;5;241;43m.\u001B[39;49m\u001B[43mutility\u001B[49m\u001B[43m,\u001B[49m\n\u001B[1;32m    129\u001B[0m \u001B[43m    \u001B[49m\u001B[43mgp\u001B[49m\u001B[38;5;241;43m=\u001B[39;49m\u001B[38;5;28;43mself\u001B[39;49m\u001B[38;5;241;43m.\u001B[39;49m\u001B[43m_gp\u001B[49m\u001B[43m,\u001B[49m\n\u001B[1;32m    130\u001B[0m \u001B[43m    \u001B[49m\u001B[43my_max\u001B[49m\u001B[38;5;241;43m=\u001B[39;49m\u001B[38;5;28;43mself\u001B[39;49m\u001B[38;5;241;43m.\u001B[39;49m\u001B[43m_space\u001B[49m\u001B[38;5;241;43m.\u001B[39;49m\u001B[43mtarget\u001B[49m\u001B[38;5;241;43m.\u001B[39;49m\u001B[43mmax\u001B[49m\u001B[43m(\u001B[49m\u001B[43m)\u001B[49m\u001B[43m,\u001B[49m\n\u001B[1;32m    131\u001B[0m \u001B[43m    \u001B[49m\u001B[43mbounds\u001B[49m\u001B[38;5;241;43m=\u001B[39;49m\u001B[38;5;28;43mself\u001B[39;49m\u001B[38;5;241;43m.\u001B[39;49m\u001B[43m_space\u001B[49m\u001B[38;5;241;43m.\u001B[39;49m\u001B[43mbounds\u001B[49m\u001B[43m,\u001B[49m\n\u001B[1;32m    132\u001B[0m \u001B[43m    \u001B[49m\u001B[43mrandom_state\u001B[49m\u001B[38;5;241;43m=\u001B[39;49m\u001B[38;5;28;43mself\u001B[39;49m\u001B[38;5;241;43m.\u001B[39;49m\u001B[43m_random_state\u001B[49m\n\u001B[1;32m    133\u001B[0m \u001B[43m\u001B[49m\u001B[43m)\u001B[49m\n\u001B[1;32m    135\u001B[0m \u001B[38;5;28;01mreturn\u001B[39;00m \u001B[38;5;28mself\u001B[39m\u001B[38;5;241m.\u001B[39m_space\u001B[38;5;241m.\u001B[39marray_to_params(suggestion)\n",
      "File \u001B[0;32m/opt/homebrew/Caskroom/miniforge/base/envs/python38/lib/python3.8/site-packages/bayes_opt/util.py:65\u001B[0m, in \u001B[0;36macq_max\u001B[0;34m(ac, gp, y_max, bounds, random_state, n_warmup, n_iter)\u001B[0m\n\u001B[1;32m     62\u001B[0m     \u001B[38;5;28;01mcontinue\u001B[39;00m\n\u001B[1;32m     64\u001B[0m \u001B[38;5;66;03m# Store it if better than previous minimum(maximum).\u001B[39;00m\n\u001B[0;32m---> 65\u001B[0m \u001B[38;5;28;01mif\u001B[39;00m max_acq \u001B[38;5;129;01mis\u001B[39;00m \u001B[38;5;28;01mNone\u001B[39;00m \u001B[38;5;129;01mor\u001B[39;00m \u001B[38;5;241m-\u001B[39m\u001B[43mres\u001B[49m\u001B[38;5;241;43m.\u001B[39;49m\u001B[43mfun\u001B[49m\u001B[43m[\u001B[49m\u001B[38;5;241;43m0\u001B[39;49m\u001B[43m]\u001B[49m \u001B[38;5;241m>\u001B[39m\u001B[38;5;241m=\u001B[39m max_acq:\n\u001B[1;32m     66\u001B[0m     x_max \u001B[38;5;241m=\u001B[39m res\u001B[38;5;241m.\u001B[39mx\n\u001B[1;32m     67\u001B[0m     max_acq \u001B[38;5;241m=\u001B[39m \u001B[38;5;241m-\u001B[39mres\u001B[38;5;241m.\u001B[39mfun[\u001B[38;5;241m0\u001B[39m]\n",
      "\u001B[0;31mTypeError\u001B[0m: 'float' object is not subscriptable"
     ]
    }
   ],
   "source": [
    "optimizer.maximize(\n",
    "    init_points=3,\n",
    "    n_iter=20,\n",
    "    acq='ei'\n",
    ")"
   ],
   "metadata": {
    "collapsed": false,
    "pycharm": {
     "name": "#%%\n"
    }
   }
  },
  {
   "cell_type": "code",
   "execution_count": 29,
   "outputs": [
    {
     "data": {
      "text/plain": "0.7985504334708212"
     },
     "execution_count": 29,
     "metadata": {},
     "output_type": "execute_result"
    }
   ],
   "source": [
    "params = optimizer.max['params']\n",
    "\n",
    "# Converting the max_depth and n_estimator values from float to int\n",
    "params['max_depth'] = int(params['max_depth'])\n",
    "params['n_estimators'] = int(params['n_estimators'])\n",
    "params['min_samples_leaf'] = int(params['min_samples_leaf'])\n",
    "params['min_samples_split'] = int(params['min_samples_split'])\n",
    "\n",
    "# Initialize an XGBRegressor with the tuned parameters and fit the training data\n",
    "tunned_rf = RandomForestRegressor(**params)\n",
    "# Change verbose to True if you want to see it train\n",
    "tunned_rf.fit(x_train, y_train)\n",
    "\n",
    "y_pred = tunned_rf.predict(x_cv)\n",
    "r2_score(y_cv, y_pred)\n",
    "#mean_squared_error(y_cv, y_pred)"
   ],
   "metadata": {
    "collapsed": false,
    "pycharm": {
     "name": "#%%\n"
    }
   }
  },
  {
   "cell_type": "code",
   "execution_count": 37,
   "outputs": [
    {
     "data": {
      "text/plain": "0.827642793374243"
     },
     "execution_count": 37,
     "metadata": {},
     "output_type": "execute_result"
    }
   ],
   "source": [
    "#Hypertuned Model\n",
    "#RandomForestRegressor(max_depth=4, min_samples_leaf=1, min_samples_split=3, n_estimators=3521)\n",
    "model = RandomForestRegressor()\n",
    "model.fit(x_train,y_train)\n",
    "y_pred = model.predict(x_cv)\n",
    "r2_score(y_cv,y_pred)\n",
    "#mean_squared_error(y_cv, y_pred)"
   ],
   "metadata": {
    "collapsed": false,
    "pycharm": {
     "name": "#%%\n"
    }
   }
  },
  {
   "cell_type": "markdown",
   "source": [
    "#### XGBoost"
   ],
   "metadata": {
    "collapsed": false
   }
  },
  {
   "cell_type": "code",
   "execution_count": 110,
   "outputs": [
    {
     "data": {
      "text/plain": "0.8657426698526389"
     },
     "execution_count": 110,
     "metadata": {},
     "output_type": "execute_result"
    }
   ],
   "source": [
    "params={ 'objective':'reg:squarederror',\n",
    "         'max_depth': 6,\n",
    "         'colsample_bylevel':0.5,\n",
    "         'learning_rate':0.01,\n",
    "         'random_state':20}\n",
    "\n",
    "#reg = xgb.XGBRegressor(objective='reg:squarederror', max_depth=6, colsample_bylevel=0.5, learning_rate=0.01, random_state=20, n_estimators=1000)\n",
    "reg = xgb.XGBRegressor(objective='reg:squarederror',subsample=0.5, n_estimators=1000, max_depth=5, learning_rate=0.01, colsample_bytree=0.8, colsample_bylevel=0.8)\n",
    "\n",
    "reg.fit(x_train, y_train,\n",
    "        verbose=False)  # Change verbose to True if you want to see it train\n",
    "y_pred = reg.predict(x_cv)\n",
    "r2_score(y_cv, y_pred)\n",
    "# mean_squared_error(y_cv, y_pred)\n",
    "# reg.feature_importances_"
   ],
   "metadata": {
    "collapsed": false,
    "pycharm": {
     "name": "#%%\n"
    }
   }
  },
  {
   "cell_type": "markdown",
   "source": [
    "#### XGBoost Tuner\n",
    "Use computed values from below in above regressor"
   ],
   "metadata": {
    "collapsed": false
   }
  },
  {
   "cell_type": "code",
   "execution_count": 80,
   "outputs": [
    {
     "name": "stdout",
     "output_type": "stream",
     "text": [
      "Fitting 5 folds for each of 25 candidates, totalling 125 fits\n",
      "[LightGBM] [Warning] Unknown parameter: colsample_bylevel\n",
      "[LightGBM] [Warning] Unknown parameter: colsample_bylevel\n",
      "[LightGBM] [Warning] Unknown parameter: colsample_bylevel\n",
      "[LightGBM] [Warning] Unknown parameter: colsample_bylevel\n",
      "[LightGBM] [Warning] Unknown parameter: colsample_bylevel\n",
      "[LightGBM] [Warning] Unknown parameter: colsample_bylevel\n",
      "[LightGBM] [Warning] Unknown parameter: colsample_bylevel\n",
      "[LightGBM] [Warning] Unknown parameter: colsample_bylevel\n",
      "[LightGBM] [Warning] Unknown parameter: colsample_bylevel\n",
      "[LightGBM] [Warning] Unknown parameter: colsample_bylevel\n",
      "[LightGBM] [Warning] Unknown parameter: colsample_bylevel\n",
      "[LightGBM] [Warning] Unknown parameter: colsample_bylevel\n",
      "[LightGBM] [Warning] Unknown parameter: colsample_bylevel\n",
      "[LightGBM] [Warning] Unknown parameter: colsample_bylevel\n",
      "[LightGBM] [Warning] Unknown parameter: colsample_bylevel\n",
      "[LightGBM] [Warning] Unknown parameter: colsample_bylevel\n",
      "[LightGBM] [Warning] Unknown parameter: colsample_bylevel\n",
      "[LightGBM] [Warning] Unknown parameter: colsample_bylevel\n",
      "[LightGBM] [Warning] Unknown parameter: colsample_bylevel\n",
      "[LightGBM] [Warning] Unknown parameter: colsample_bylevel\n",
      "[LightGBM] [Warning] Unknown parameter: colsample_bylevel\n",
      "[LightGBM] [Warning] Unknown parameter: colsample_bylevel\n",
      "[LightGBM] [Warning] Unknown parameter: colsample_bylevel\n",
      "[LightGBM] [Warning] Unknown parameter: colsample_bylevel\n",
      "[LightGBM] [Warning] Unknown parameter: colsample_bylevel\n",
      "[LightGBM] [Warning] Unknown parameter: colsample_bylevel\n",
      "[LightGBM] [Warning] Unknown parameter: colsample_bylevel\n",
      "[LightGBM] [Warning] Unknown parameter: colsample_bylevel\n",
      "[LightGBM] [Warning] Unknown parameter: colsample_bylevel\n",
      "[LightGBM] [Warning] Unknown parameter: colsample_bylevel\n",
      "[LightGBM] [Warning] Unknown parameter: colsample_bylevel\n",
      "[LightGBM] [Warning] Unknown parameter: colsample_bylevel\n",
      "[LightGBM] [Warning] Unknown parameter: colsample_bylevel\n",
      "[LightGBM] [Warning] Unknown parameter: colsample_bylevel\n",
      "[LightGBM] [Warning] Unknown parameter: colsample_bylevel\n",
      "[LightGBM] [Warning] Unknown parameter: colsample_bylevel\n",
      "[LightGBM] [Warning] Unknown parameter: colsample_bylevel\n",
      "[LightGBM] [Warning] Unknown parameter: colsample_bylevel\n",
      "[LightGBM] [Warning] Unknown parameter: colsample_bylevel\n",
      "[LightGBM] [Warning] Unknown parameter: colsample_bylevel\n",
      "[LightGBM] [Warning] Unknown parameter: colsample_bylevel\n",
      "[LightGBM] [Warning] Unknown parameter: colsample_bylevel\n",
      "[LightGBM] [Warning] Unknown parameter: colsample_bylevel\n",
      "[LightGBM] [Warning] Unknown parameter: colsample_bylevel\n",
      "[LightGBM] [Warning] Unknown parameter: colsample_bylevel\n",
      "[LightGBM] [Warning] Unknown parameter: colsample_bylevel\n",
      "[LightGBM] [Warning] Unknown parameter: colsample_bylevel\n",
      "[LightGBM] [Warning] Unknown parameter: colsample_bylevel\n",
      "[LightGBM] [Warning] Unknown parameter: colsample_bylevel\n",
      "[LightGBM] [Warning] Unknown parameter: colsample_bylevel\n",
      "[LightGBM] [Warning] Unknown parameter: colsample_bylevel\n",
      "[LightGBM] [Warning] Unknown parameter: colsample_bylevel\n",
      "[LightGBM] [Warning] Unknown parameter: colsample_bylevel\n",
      "[LightGBM] [Warning] Unknown parameter: colsample_bylevel\n",
      "[LightGBM] [Warning] Unknown parameter: colsample_bylevel\n",
      "[LightGBM] [Warning] Unknown parameter: colsample_bylevel\n",
      "[LightGBM] [Warning] Unknown parameter: colsample_bylevel\n",
      "[LightGBM] [Warning] Unknown parameter: colsample_bylevel\n",
      "[LightGBM] [Warning] Unknown parameter: colsample_bylevel\n",
      "[LightGBM] [Warning] Unknown parameter: colsample_bylevel\n",
      "[LightGBM] [Warning] Unknown parameter: colsample_bylevel\n",
      "[LightGBM] [Warning] Unknown parameter: colsample_bylevel\n",
      "[LightGBM] [Warning] Unknown parameter: colsample_bylevel\n",
      "[LightGBM] [Warning] Unknown parameter: colsample_bylevel\n",
      "[LightGBM] [Warning] Unknown parameter: colsample_bylevel\n",
      "[LightGBM] [Warning] Unknown parameter: colsample_bylevel\n",
      "[LightGBM] [Warning] Unknown parameter: colsample_bylevel\n",
      "[LightGBM] [Warning] Unknown parameter: colsample_bylevel\n",
      "[LightGBM] [Warning] Unknown parameter: colsample_bylevel\n",
      "[LightGBM] [Warning] Unknown parameter: colsample_bylevel\n",
      "[LightGBM] [Warning] Unknown parameter: colsample_bylevel\n",
      "[LightGBM] [Warning] Unknown parameter: colsample_bylevel\n",
      "[LightGBM] [Warning] Unknown parameter: colsample_bylevel\n",
      "[LightGBM] [Warning] Unknown parameter: colsample_bylevel\n",
      "[LightGBM] [Warning] Unknown parameter: colsample_bylevel\n",
      "[LightGBM] [Warning] Unknown parameter: colsample_bylevel\n",
      "[LightGBM] [Warning] Unknown parameter: colsample_bylevel\n",
      "[LightGBM] [Warning] Unknown parameter: colsample_bylevel\n",
      "[LightGBM] [Warning] Unknown parameter: colsample_bylevel\n",
      "[LightGBM] [Warning] Unknown parameter: colsample_bylevel\n",
      "[LightGBM] [Warning] Unknown parameter: colsample_bylevel\n",
      "[LightGBM] [Warning] Unknown parameter: colsample_bylevel\n",
      "[LightGBM] [Warning] Unknown parameter: colsample_bylevel\n",
      "[LightGBM] [Warning] Unknown parameter: colsample_bylevel\n",
      "[LightGBM] [Warning] Unknown parameter: colsample_bylevel\n",
      "[LightGBM] [Warning] Unknown parameter: colsample_bylevel\n",
      "[LightGBM] [Warning] Unknown parameter: colsample_bylevel\n",
      "[LightGBM] [Warning] Unknown parameter: colsample_bylevel\n",
      "[LightGBM] [Warning] Unknown parameter: colsample_bylevel\n",
      "[LightGBM] [Warning] Unknown parameter: colsample_bylevel\n",
      "[LightGBM] [Warning] Unknown parameter: colsample_bylevel\n",
      "[LightGBM] [Warning] Unknown parameter: colsample_bylevel\n",
      "[LightGBM] [Warning] Unknown parameter: colsample_bylevel\n",
      "[LightGBM] [Warning] Unknown parameter: colsample_bylevel\n",
      "[LightGBM] [Warning] Unknown parameter: colsample_bylevel\n",
      "[LightGBM] [Warning] Unknown parameter: colsample_bylevel\n",
      "[LightGBM] [Warning] Unknown parameter: colsample_bylevel\n",
      "[LightGBM] [Warning] Unknown parameter: colsample_bylevel\n",
      "[LightGBM] [Warning] Unknown parameter: colsample_bylevel\n",
      "[LightGBM] [Warning] Unknown parameter: colsample_bylevel\n",
      "[LightGBM] [Warning] Unknown parameter: colsample_bylevel\n",
      "[LightGBM] [Warning] Unknown parameter: colsample_bylevel\n",
      "[LightGBM] [Warning] Unknown parameter: colsample_bylevel\n",
      "[LightGBM] [Warning] Unknown parameter: colsample_bylevel\n",
      "[LightGBM] [Warning] Unknown parameter: colsample_bylevel\n",
      "[LightGBM] [Warning] Unknown parameter: colsample_bylevel\n",
      "[LightGBM] [Warning] Unknown parameter: colsample_bylevel\n",
      "[LightGBM] [Warning] Unknown parameter: colsample_bylevel\n",
      "[LightGBM] [Warning] Unknown parameter: colsample_bylevel\n",
      "[LightGBM] [Warning] Unknown parameter: colsample_bylevel\n",
      "[LightGBM] [Warning] Unknown parameter: colsample_bylevel\n",
      "[LightGBM] [Warning] Unknown parameter: colsample_bylevel\n",
      "[LightGBM] [Warning] Unknown parameter: colsample_bylevel\n",
      "[LightGBM] [Warning] Unknown parameter: colsample_bylevel\n",
      "[LightGBM] [Warning] Unknown parameter: colsample_bylevel\n",
      "[LightGBM] [Warning] Unknown parameter: colsample_bylevel\n",
      "[LightGBM] [Warning] Unknown parameter: colsample_bylevel\n",
      "[LightGBM] [Warning] Unknown parameter: colsample_bylevel\n",
      "[LightGBM] [Warning] Unknown parameter: colsample_bylevel\n",
      "[LightGBM] [Warning] Unknown parameter: colsample_bylevel\n",
      "[LightGBM] [Warning] Unknown parameter: colsample_bylevel\n",
      "[LightGBM] [Warning] Unknown parameter: colsample_bylevel\n",
      "[LightGBM] [Warning] Unknown parameter: colsample_bylevel\n",
      "[LightGBM] [Warning] Unknown parameter: colsample_bylevel\n",
      "[LightGBM] [Warning] Unknown parameter: colsample_bylevel\n",
      "[LightGBM] [Warning] Unknown parameter: colsample_bylevel\n",
      "Best parameters: {'subsample': 0.6, 'n_estimators': 500, 'max_depth': 20, 'learning_rate': 0.3, 'colsample_bytree': 0.8999999999999999, 'colsample_bylevel': 0.5}\n",
      "Lowest RMSE:  135.33376107398024\n"
     ]
    }
   ],
   "source": [
    "params = { 'max_depth': [3, 5, 6, 10, 15, 20],\n",
    "           'learning_rate': [0.01, 0.1, 0.2, 0.3],\n",
    "           'subsample': np.arange(0.5, 1.0, 0.1),\n",
    "           'colsample_bytree': np.arange(0.4, 1.0, 0.1),\n",
    "           'colsample_bylevel': np.arange(0.4, 1.0, 0.1),\n",
    "           'n_estimators': [100, 500, 1000]}\n",
    "xgbr = xgb.XGBRegressor(seed = 20)\n",
    "clf = RandomizedSearchCV(estimator=xgbr,\n",
    "                         param_distributions=params,\n",
    "                         scoring='neg_mean_squared_error',\n",
    "                         n_iter=25,\n",
    "                         verbose=1)\n",
    "clf.fit(x_train, y_train)\n",
    "print(\"Best parameters:\", clf.best_params_)\n",
    "print(\"Lowest RMSE: \", (-clf.best_score_)**(1/2.0))"
   ],
   "metadata": {
    "collapsed": false,
    "pycharm": {
     "name": "#%%\n"
    }
   }
  },
  {
   "cell_type": "markdown",
   "source": [
    "### LightGBM"
   ],
   "metadata": {
    "collapsed": false
   }
  },
  {
   "cell_type": "code",
   "execution_count": 95,
   "outputs": [
    {
     "data": {
      "text/plain": "0.8273641470587264"
     },
     "execution_count": 95,
     "metadata": {},
     "output_type": "execute_result"
    }
   ],
   "source": [
    "lightGBM = lgb.LGBMRegressor(subsample=0.6, max_depth=20, learning_rate=0.3, colsample_bytree=0.9)\n",
    "lightGBM.fit(x_train, y_train)\n",
    "y_pred = lightGBM.predict(x_cv)\n",
    "r2_score(y_cv, y_pred)\n",
    "#mean_squared_error(y_cv, y_pred)"
   ],
   "metadata": {
    "collapsed": false,
    "pycharm": {
     "name": "#%%\n"
    }
   }
  },
  {
   "cell_type": "code",
   "execution_count": 79,
   "outputs": [
    {
     "data": {
      "text/plain": "    Call Date  Year of Call Date  Month  Week of Call Date  Day of Call Date  \\\n0  2021-12-15               2021     12                 51                15   \n1  2021-12-16               2021     12                 51                16   \n2  2021-12-17               2021     12                 51                17   \n3  2021-12-18               2021     12                 51                18   \n4  2021-12-19               2021     12                 51                19   \n5  2021-12-20               2021     12                 52                20   \n6  2021-12-21               2021     12                 52                21   \n7  2021-12-22               2021     12                 52                22   \n8  2021-12-23               2021     12                 52                23   \n9  2021-12-24               2021     12                 52                24   \n10 2021-12-25               2021     12                 52                25   \n11 2021-12-26               2021     12                 52                26   \n12 2021-12-27               2021     12                 53                27   \n13 2021-12-28               2021     12                 53                28   \n14 2021-12-29               2021     12                 53                29   \n15 2021-12-30               2021     12                 53                30   \n16 2021-12-31               2021     12                 53                31   \n17 2022-01-01               2022     12                  1                 1   \n18 2022-01-02               2022     12                  1                 2   \n19 2022-01-03               2022     12                  2                 3   \n20 2022-01-04               2022     12                  2                 4   \n21 2022-01-05               2022     12                  2                 5   \n22 2022-01-06               2022     12                  2                 6   \n23 2022-01-07               2022     12                  2                 7   \n24 2022-01-08               2022     12                  2                 8   \n25 2022-01-09               2022     12                  2                 9   \n26 2022-01-10               2022     12                  3                10   \n27 2022-01-11               2022     12                  3                11   \n28 2022-01-12               2022     12                  3                12   \n29 2022-01-13               2022     12                  3                13   \n30 2022-01-14               2022     12                  3                14   \n31 2022-01-15               2022     12                  3                15   \n32 2022-01-16               2022     12                  3                16   \n33 2022-01-17               2022     12                  4                17   \n34 2022-01-18               2022     12                  4                18   \n35 2022-01-19               2022     12                  4                19   \n36 2022-01-20               2022     12                  4                20   \n37 2022-01-21               2022     12                  4                21   \n38 2022-01-22               2022     12                  4                22   \n39 2022-01-23               2022     12                  4                23   \n40 2022-01-24               2022     12                  5                24   \n41 2022-01-25               2022     12                  5                25   \n42 2022-01-26               2022     12                  5                26   \n43 2022-01-27               2022     12                  5                27   \n44 2022-01-28               2022     12                  5                28   \n45 2022-01-29               2022     12                  5                29   \n46 2022-01-30               2022     12                  5                30   \n47 2022-01-31               2022     12                  6                31   \n\n    Weekday of Call Date  Total Incoming Calls  \n0                      4            901.629639  \n1                      5            822.551636  \n2                      6            777.045837  \n3                      7            793.510864  \n4                      1            958.438171  \n5                      2           1285.635864  \n6                      3           1370.397217  \n7                      4           1267.748657  \n8                      5           1122.187012  \n9                      6            986.279846  \n10                     7           1000.194153  \n11                     1           1214.620239  \n12                     2           1228.192871  \n13                     3           1289.595825  \n14                     4           1313.706055  \n15                     5           1201.667236  \n16                     6           1013.678345  \n17                     7            832.003113  \n18                     1           1030.043335  \n19                     2           1025.016479  \n20                     3           1043.564575  \n21                     4           1062.819702  \n22                     5            969.570251  \n23                     6            843.074402  \n24                     7            847.579163  \n25                     1           1007.671021  \n26                     2            945.900146  \n27                     3           1010.477112  \n28                     4           1017.062439  \n29                     5            891.794617  \n30                     6            612.826294  \n31                     7            564.696655  \n32                     1            728.945557  \n33                     2            459.944336  \n34                     3            550.141785  \n35                     4            590.401489  \n36                     5            572.867981  \n37                     6            442.547791  \n38                     7            448.201141  \n39                     1            577.622620  \n40                     2            589.462708  \n41                     3            610.391235  \n42                     4            590.376709  \n43                     5            561.927917  \n44                     6            482.011749  \n45                     7            484.057922  \n46                     1            605.547852  \n47                     2            606.681274  ",
      "text/html": "<div>\n<style scoped>\n    .dataframe tbody tr th:only-of-type {\n        vertical-align: middle;\n    }\n\n    .dataframe tbody tr th {\n        vertical-align: top;\n    }\n\n    .dataframe thead th {\n        text-align: right;\n    }\n</style>\n<table border=\"1\" class=\"dataframe\">\n  <thead>\n    <tr style=\"text-align: right;\">\n      <th></th>\n      <th>Call Date</th>\n      <th>Year of Call Date</th>\n      <th>Month</th>\n      <th>Week of Call Date</th>\n      <th>Day of Call Date</th>\n      <th>Weekday of Call Date</th>\n      <th>Total Incoming Calls</th>\n    </tr>\n  </thead>\n  <tbody>\n    <tr>\n      <th>0</th>\n      <td>2021-12-15</td>\n      <td>2021</td>\n      <td>12</td>\n      <td>51</td>\n      <td>15</td>\n      <td>4</td>\n      <td>901.629639</td>\n    </tr>\n    <tr>\n      <th>1</th>\n      <td>2021-12-16</td>\n      <td>2021</td>\n      <td>12</td>\n      <td>51</td>\n      <td>16</td>\n      <td>5</td>\n      <td>822.551636</td>\n    </tr>\n    <tr>\n      <th>2</th>\n      <td>2021-12-17</td>\n      <td>2021</td>\n      <td>12</td>\n      <td>51</td>\n      <td>17</td>\n      <td>6</td>\n      <td>777.045837</td>\n    </tr>\n    <tr>\n      <th>3</th>\n      <td>2021-12-18</td>\n      <td>2021</td>\n      <td>12</td>\n      <td>51</td>\n      <td>18</td>\n      <td>7</td>\n      <td>793.510864</td>\n    </tr>\n    <tr>\n      <th>4</th>\n      <td>2021-12-19</td>\n      <td>2021</td>\n      <td>12</td>\n      <td>51</td>\n      <td>19</td>\n      <td>1</td>\n      <td>958.438171</td>\n    </tr>\n    <tr>\n      <th>5</th>\n      <td>2021-12-20</td>\n      <td>2021</td>\n      <td>12</td>\n      <td>52</td>\n      <td>20</td>\n      <td>2</td>\n      <td>1285.635864</td>\n    </tr>\n    <tr>\n      <th>6</th>\n      <td>2021-12-21</td>\n      <td>2021</td>\n      <td>12</td>\n      <td>52</td>\n      <td>21</td>\n      <td>3</td>\n      <td>1370.397217</td>\n    </tr>\n    <tr>\n      <th>7</th>\n      <td>2021-12-22</td>\n      <td>2021</td>\n      <td>12</td>\n      <td>52</td>\n      <td>22</td>\n      <td>4</td>\n      <td>1267.748657</td>\n    </tr>\n    <tr>\n      <th>8</th>\n      <td>2021-12-23</td>\n      <td>2021</td>\n      <td>12</td>\n      <td>52</td>\n      <td>23</td>\n      <td>5</td>\n      <td>1122.187012</td>\n    </tr>\n    <tr>\n      <th>9</th>\n      <td>2021-12-24</td>\n      <td>2021</td>\n      <td>12</td>\n      <td>52</td>\n      <td>24</td>\n      <td>6</td>\n      <td>986.279846</td>\n    </tr>\n    <tr>\n      <th>10</th>\n      <td>2021-12-25</td>\n      <td>2021</td>\n      <td>12</td>\n      <td>52</td>\n      <td>25</td>\n      <td>7</td>\n      <td>1000.194153</td>\n    </tr>\n    <tr>\n      <th>11</th>\n      <td>2021-12-26</td>\n      <td>2021</td>\n      <td>12</td>\n      <td>52</td>\n      <td>26</td>\n      <td>1</td>\n      <td>1214.620239</td>\n    </tr>\n    <tr>\n      <th>12</th>\n      <td>2021-12-27</td>\n      <td>2021</td>\n      <td>12</td>\n      <td>53</td>\n      <td>27</td>\n      <td>2</td>\n      <td>1228.192871</td>\n    </tr>\n    <tr>\n      <th>13</th>\n      <td>2021-12-28</td>\n      <td>2021</td>\n      <td>12</td>\n      <td>53</td>\n      <td>28</td>\n      <td>3</td>\n      <td>1289.595825</td>\n    </tr>\n    <tr>\n      <th>14</th>\n      <td>2021-12-29</td>\n      <td>2021</td>\n      <td>12</td>\n      <td>53</td>\n      <td>29</td>\n      <td>4</td>\n      <td>1313.706055</td>\n    </tr>\n    <tr>\n      <th>15</th>\n      <td>2021-12-30</td>\n      <td>2021</td>\n      <td>12</td>\n      <td>53</td>\n      <td>30</td>\n      <td>5</td>\n      <td>1201.667236</td>\n    </tr>\n    <tr>\n      <th>16</th>\n      <td>2021-12-31</td>\n      <td>2021</td>\n      <td>12</td>\n      <td>53</td>\n      <td>31</td>\n      <td>6</td>\n      <td>1013.678345</td>\n    </tr>\n    <tr>\n      <th>17</th>\n      <td>2022-01-01</td>\n      <td>2022</td>\n      <td>12</td>\n      <td>1</td>\n      <td>1</td>\n      <td>7</td>\n      <td>832.003113</td>\n    </tr>\n    <tr>\n      <th>18</th>\n      <td>2022-01-02</td>\n      <td>2022</td>\n      <td>12</td>\n      <td>1</td>\n      <td>2</td>\n      <td>1</td>\n      <td>1030.043335</td>\n    </tr>\n    <tr>\n      <th>19</th>\n      <td>2022-01-03</td>\n      <td>2022</td>\n      <td>12</td>\n      <td>2</td>\n      <td>3</td>\n      <td>2</td>\n      <td>1025.016479</td>\n    </tr>\n    <tr>\n      <th>20</th>\n      <td>2022-01-04</td>\n      <td>2022</td>\n      <td>12</td>\n      <td>2</td>\n      <td>4</td>\n      <td>3</td>\n      <td>1043.564575</td>\n    </tr>\n    <tr>\n      <th>21</th>\n      <td>2022-01-05</td>\n      <td>2022</td>\n      <td>12</td>\n      <td>2</td>\n      <td>5</td>\n      <td>4</td>\n      <td>1062.819702</td>\n    </tr>\n    <tr>\n      <th>22</th>\n      <td>2022-01-06</td>\n      <td>2022</td>\n      <td>12</td>\n      <td>2</td>\n      <td>6</td>\n      <td>5</td>\n      <td>969.570251</td>\n    </tr>\n    <tr>\n      <th>23</th>\n      <td>2022-01-07</td>\n      <td>2022</td>\n      <td>12</td>\n      <td>2</td>\n      <td>7</td>\n      <td>6</td>\n      <td>843.074402</td>\n    </tr>\n    <tr>\n      <th>24</th>\n      <td>2022-01-08</td>\n      <td>2022</td>\n      <td>12</td>\n      <td>2</td>\n      <td>8</td>\n      <td>7</td>\n      <td>847.579163</td>\n    </tr>\n    <tr>\n      <th>25</th>\n      <td>2022-01-09</td>\n      <td>2022</td>\n      <td>12</td>\n      <td>2</td>\n      <td>9</td>\n      <td>1</td>\n      <td>1007.671021</td>\n    </tr>\n    <tr>\n      <th>26</th>\n      <td>2022-01-10</td>\n      <td>2022</td>\n      <td>12</td>\n      <td>3</td>\n      <td>10</td>\n      <td>2</td>\n      <td>945.900146</td>\n    </tr>\n    <tr>\n      <th>27</th>\n      <td>2022-01-11</td>\n      <td>2022</td>\n      <td>12</td>\n      <td>3</td>\n      <td>11</td>\n      <td>3</td>\n      <td>1010.477112</td>\n    </tr>\n    <tr>\n      <th>28</th>\n      <td>2022-01-12</td>\n      <td>2022</td>\n      <td>12</td>\n      <td>3</td>\n      <td>12</td>\n      <td>4</td>\n      <td>1017.062439</td>\n    </tr>\n    <tr>\n      <th>29</th>\n      <td>2022-01-13</td>\n      <td>2022</td>\n      <td>12</td>\n      <td>3</td>\n      <td>13</td>\n      <td>5</td>\n      <td>891.794617</td>\n    </tr>\n    <tr>\n      <th>30</th>\n      <td>2022-01-14</td>\n      <td>2022</td>\n      <td>12</td>\n      <td>3</td>\n      <td>14</td>\n      <td>6</td>\n      <td>612.826294</td>\n    </tr>\n    <tr>\n      <th>31</th>\n      <td>2022-01-15</td>\n      <td>2022</td>\n      <td>12</td>\n      <td>3</td>\n      <td>15</td>\n      <td>7</td>\n      <td>564.696655</td>\n    </tr>\n    <tr>\n      <th>32</th>\n      <td>2022-01-16</td>\n      <td>2022</td>\n      <td>12</td>\n      <td>3</td>\n      <td>16</td>\n      <td>1</td>\n      <td>728.945557</td>\n    </tr>\n    <tr>\n      <th>33</th>\n      <td>2022-01-17</td>\n      <td>2022</td>\n      <td>12</td>\n      <td>4</td>\n      <td>17</td>\n      <td>2</td>\n      <td>459.944336</td>\n    </tr>\n    <tr>\n      <th>34</th>\n      <td>2022-01-18</td>\n      <td>2022</td>\n      <td>12</td>\n      <td>4</td>\n      <td>18</td>\n      <td>3</td>\n      <td>550.141785</td>\n    </tr>\n    <tr>\n      <th>35</th>\n      <td>2022-01-19</td>\n      <td>2022</td>\n      <td>12</td>\n      <td>4</td>\n      <td>19</td>\n      <td>4</td>\n      <td>590.401489</td>\n    </tr>\n    <tr>\n      <th>36</th>\n      <td>2022-01-20</td>\n      <td>2022</td>\n      <td>12</td>\n      <td>4</td>\n      <td>20</td>\n      <td>5</td>\n      <td>572.867981</td>\n    </tr>\n    <tr>\n      <th>37</th>\n      <td>2022-01-21</td>\n      <td>2022</td>\n      <td>12</td>\n      <td>4</td>\n      <td>21</td>\n      <td>6</td>\n      <td>442.547791</td>\n    </tr>\n    <tr>\n      <th>38</th>\n      <td>2022-01-22</td>\n      <td>2022</td>\n      <td>12</td>\n      <td>4</td>\n      <td>22</td>\n      <td>7</td>\n      <td>448.201141</td>\n    </tr>\n    <tr>\n      <th>39</th>\n      <td>2022-01-23</td>\n      <td>2022</td>\n      <td>12</td>\n      <td>4</td>\n      <td>23</td>\n      <td>1</td>\n      <td>577.622620</td>\n    </tr>\n    <tr>\n      <th>40</th>\n      <td>2022-01-24</td>\n      <td>2022</td>\n      <td>12</td>\n      <td>5</td>\n      <td>24</td>\n      <td>2</td>\n      <td>589.462708</td>\n    </tr>\n    <tr>\n      <th>41</th>\n      <td>2022-01-25</td>\n      <td>2022</td>\n      <td>12</td>\n      <td>5</td>\n      <td>25</td>\n      <td>3</td>\n      <td>610.391235</td>\n    </tr>\n    <tr>\n      <th>42</th>\n      <td>2022-01-26</td>\n      <td>2022</td>\n      <td>12</td>\n      <td>5</td>\n      <td>26</td>\n      <td>4</td>\n      <td>590.376709</td>\n    </tr>\n    <tr>\n      <th>43</th>\n      <td>2022-01-27</td>\n      <td>2022</td>\n      <td>12</td>\n      <td>5</td>\n      <td>27</td>\n      <td>5</td>\n      <td>561.927917</td>\n    </tr>\n    <tr>\n      <th>44</th>\n      <td>2022-01-28</td>\n      <td>2022</td>\n      <td>12</td>\n      <td>5</td>\n      <td>28</td>\n      <td>6</td>\n      <td>482.011749</td>\n    </tr>\n    <tr>\n      <th>45</th>\n      <td>2022-01-29</td>\n      <td>2022</td>\n      <td>12</td>\n      <td>5</td>\n      <td>29</td>\n      <td>7</td>\n      <td>484.057922</td>\n    </tr>\n    <tr>\n      <th>46</th>\n      <td>2022-01-30</td>\n      <td>2022</td>\n      <td>12</td>\n      <td>5</td>\n      <td>30</td>\n      <td>1</td>\n      <td>605.547852</td>\n    </tr>\n    <tr>\n      <th>47</th>\n      <td>2022-01-31</td>\n      <td>2022</td>\n      <td>12</td>\n      <td>6</td>\n      <td>31</td>\n      <td>2</td>\n      <td>606.681274</td>\n    </tr>\n  </tbody>\n</table>\n</div>"
     },
     "execution_count": 79,
     "metadata": {},
     "output_type": "execute_result"
    }
   ],
   "source": [
    "test = pd.read_excel('./calls_test.xlsx')\n",
    "test['Call Date'] = pd.to_datetime(test['Call Date'], format=\"%d.%m.%Y\")\n",
    "test1=test.drop(['Call Date'],axis=1)\n",
    "pred2=reg.predict(test1)\n",
    "test['Total Incoming Calls']=pred2\n",
    "\n",
    "test"
   ],
   "metadata": {
    "collapsed": false,
    "pycharm": {
     "name": "#%%\n"
    }
   }
  },
  {
   "cell_type": "code",
   "execution_count": 42,
   "outputs": [
    {
     "data": {
      "text/plain": "array([0.03568191, 0.01716947, 0.82852594, 0.06259934, 0.05602334])"
     },
     "execution_count": 42,
     "metadata": {},
     "output_type": "execute_result"
    }
   ],
   "source": [
    "model.feature_importances_"
   ],
   "metadata": {
    "collapsed": false,
    "pycharm": {
     "name": "#%%\n"
    }
   }
  },
  {
   "cell_type": "code",
   "execution_count": null,
   "outputs": [],
   "source": [],
   "metadata": {
    "collapsed": false,
    "pycharm": {
     "name": "#%%\n"
    }
   }
  }
 ],
 "metadata": {
  "kernelspec": {
   "display_name": "Python 3",
   "language": "python",
   "name": "python3"
  },
  "language_info": {
   "codemirror_mode": {
    "name": "ipython",
    "version": 2
   },
   "file_extension": ".py",
   "mimetype": "text/x-python",
   "name": "python",
   "nbconvert_exporter": "python",
   "pygments_lexer": "ipython2",
   "version": "2.7.6"
  }
 },
 "nbformat": 4,
 "nbformat_minor": 0
}